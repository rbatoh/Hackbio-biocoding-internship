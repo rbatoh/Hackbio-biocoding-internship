{
 "cells": [
  {
   "cell_type": "markdown",
   "id": "1b5c66e2-ff44-4f57-81b4-b912e18c7a2e",
   "metadata": {},
   "source": [
    "# **DETAILS FOR MEMBERS OF TEAM TRYOSINE**"
   ]
  },
  {
   "cell_type": "code",
   "execution_count": 3,
   "id": "078579b4-538e-4cfe-b67a-3abb4e5ea8e9",
   "metadata": {},
   "outputs": [
    {
     "name": "stdout",
     "output_type": "stream",
     "text": [
      "[{'name_01': 'Laura Mazzucchi', 'slack_username_01': 'lauramazzu', 'email_01': 'lauramazzu.lm@gmail.com', 'hobbies_01': ['music', 'travelling', 'learning', 'swimming', 'running', 'dancing', 'history countries'], 'country_01': 'Italian living in UK', 'discipline_01': 'microalgae biotechnology and ecology', 'prefered programming language_01': 'python'}, {'name_02': 'Ajayi Grace', 'slack_username_02': 'Grace', 'email_02': 'oluwasolagraceajayi@gmail.com', 'hobbies_02': ['reading', 'learning new things'], 'country_02': 'Nigeria', 'discipline_02': 'Biochemistry', 'prefered programming language_02': 'R'}, {'name_03': 'Olajide Temitope', 'slack_username_03': 'Temitope', 'email_03': 'te.olajide@gmail.com', 'hobby_03': 'reading', 'country_03': 'Nigeria', 'discipline_03': 'Biology', 'prefered programming language_03': 'Python'}, {'name_04': 'Rebecca Batoh', 'slack_username_04': 'Becca', 'email_04': 'rebeccabatoh17@gmail.com', 'hobbies_04': ['music', 'movies', 'reading'], 'country_04': 'Ghana', 'discipline_04': 'Biomedical Engineering', 'prefered programming language_04': 'Python'}, {'name_05': 'Emmanuel oluwarotimi Igiehon', 'slack_username_05': 'Emma', 'email_05': 'emmanueligiehen80@gmail.com', 'hobbies_05': ['music', 'learning', 'gaming'], 'country_05': 'Nigeria', 'discipline_05': 'Plant Biology and biotechnology', 'preferred programming language_05': 'python'}, {'name_06': 'Osasenaga Oluwatosin Igiehon', 'slack_username_06': 'Osas', 'email_06': 'osasenagaigiehon7@gmail.com', 'hobbies_06': ['Music', 'watching football', 'Movies'], 'country_06': 'Nigeria', 'discipline_06': 'Animal Science', 'preferred programming language_06': 'python'}]\n"
     ]
    }
   ],
   "source": [
    "Team_tryosine = [ \n",
    "{ \n",
    "    # Details for member 1\n",
    "    'name_01': 'Laura Mazzucchi' ,\n",
    "    'slack_username_01': 'lauramazzu',\n",
    "    'email_01': 'lauramazzu.lm@gmail.com' ,\n",
    "    'hobbies_01': ['music','travelling','learning','swimming','running','dancing','history countries'] ,\n",
    "    'country_01': 'Italian living in UK' ,\n",
    "    'discipline_01': 'microalgae biotechnology and ecology' ,\n",
    "    'prefered programming language_01': 'python' ,\n",
    "},\n",
    "{  \n",
    "    # Details for member 2\n",
    "    'name_02': 'Ajayi Grace' ,\n",
    "    'slack_username_02': 'Grace' ,\n",
    "    'email_02': 'oluwasolagraceajayi@gmail.com' ,\n",
    "    'hobbies_02': ['reading','learning new things'] ,\n",
    "    'country_02': 'Nigeria' ,\n",
    "    'discipline_02': 'Biochemistry' ,\n",
    "    'prefered programming language_02': 'R' ,\n",
    "},\n",
    "{\n",
    "    # Details for member 3\n",
    "    'name_03': 'Olajide Temitope' ,\n",
    "    'slack_username_03': 'Temitope' ,\n",
    "    'email_03': 'te.olajide@gmail.com' ,\n",
    "    'hobby_03': 'reading' ,\n",
    "    'country_03': 'Nigeria' ,\n",
    "    'discipline_03': 'Biology' ,\n",
    "    'prefered programming language_03': 'Python' ,\n",
    "},\n",
    "{ \n",
    "    # Details for member 4\n",
    "    'name_04': 'Rebecca Batoh' ,\n",
    "    'slack_username_04': 'Becca' ,\n",
    "    'email_04': 'rebeccabatoh17@gmail.com' ,\n",
    "    'hobbies_04': ['music','movies','reading'] ,\n",
    "    'country_04': 'Ghana' ,\n",
    "    'discipline_04': 'Biomedical Engineering' ,\n",
    "    'prefered programming language_04': 'Python'\n",
    "},\n",
    "{\n",
    "    # Details for member 5\n",
    "    'name_05': 'Emmanuel oluwarotimi Igiehon' ,\n",
    "    'slack_username_05': 'Emma' ,\n",
    "    'email_05': 'emmanueligiehen80@gmail.com' ,\n",
    "    'hobbies_05': ['music', 'learning', 'gaming'] ,\n",
    "    'country_05': 'Nigeria' , \n",
    "    'discipline_05': 'Plant Biology and biotechnology' ,\n",
    "    'preferred programming language_05': 'python'\n",
    "},\n",
    "{\n",
    "    # Details for member 6\n",
    "    'name_06': 'Osasenaga Oluwatosin Igiehon',\n",
    "    'slack_username_06': 'Osas',\n",
    "    'email_06': 'osasenagaigiehon7@gmail.com',\n",
    "    'hobbies_06': ['Music', 'watching football', 'Movies'],\n",
    "    'country_06': 'Nigeria',\n",
    "    'discipline_06': 'Animal Science',\n",
    "    'preferred programming language_06': 'python'\n",
    "}\n",
    "]\n",
    "\n",
    "print(Team_tryosine)"
   ]
  },
  {
   "cell_type": "code",
   "execution_count": null,
   "id": "0ed15a2b-e5d8-43cd-8aac-171150a016bf",
   "metadata": {},
   "outputs": [],
   "source": []
  },
  {
   "cell_type": "code",
   "execution_count": null,
   "id": "4127fe5f-3959-4368-b2ed-da7cba74a9ab",
   "metadata": {},
   "outputs": [],
   "source": []
  }
 ],
 "metadata": {
  "kernelspec": {
   "display_name": "Python 3 (ipykernel)",
   "language": "python",
   "name": "python3"
  },
  "language_info": {
   "codemirror_mode": {
    "name": "ipython",
    "version": 3
   },
   "file_extension": ".py",
   "mimetype": "text/x-python",
   "name": "python",
   "nbconvert_exporter": "python",
   "pygments_lexer": "ipython3",
   "version": "3.12.4"
  },
  "toc": {
   "base_numbering": 0
  }
 },
 "nbformat": 4,
 "nbformat_minor": 5
}
