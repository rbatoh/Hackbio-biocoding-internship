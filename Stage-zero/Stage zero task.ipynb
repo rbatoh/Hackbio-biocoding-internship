{
 "cells": [
  {
   "cell_type": "markdown",
   "id": "1b5c66e2-ff44-4f57-81b4-b912e18c7a2e",
   "metadata": {},
   "source": [
    "# **DETAILS FOR MEMBERS OF TEAM TRYOSINE**"
   ]
  },
  {
   "cell_type": "code",
   "execution_count": 12,
   "id": "0ed15a2b-e5d8-43cd-8aac-171150a016bf",
   "metadata": {},
   "outputs": [
    {
     "name": "stdout",
     "output_type": "stream",
     "text": [
      "{'Member_1': {'name': 'Laura Mazzucchi', 'slack_username': 'lauramazzu', 'email': 'lauramazzu.lm@gmail.com', 'hobby': ['music', 'travelling', 'learning', 'swimming', 'running', 'dancing', 'history countries'], 'country': 'Italian living in UK', 'discipline': 'microalgae biotechnology and ecology', 'prefered_programming_language': 'python'}, 'Member_2': {'name': 'Ajayi Grace', 'slack_username': 'Grace', 'email': 'oluwasolagraceajayi@gmail.com', 'hobby': ['reading', 'learning new things'], 'country': 'Nigeria', 'discipline': 'Biochemistry', 'prefered_programming_language': 'R'}, 'Member_3': {'name': 'Olajide Temitope', 'slack_username': 'Temitope', 'email': 'te.olajide@gmail.com', 'hobby': 'reading', 'country': 'Nigeria', 'discipline': 'Biology', 'prefered_programming_language': 'Python'}, 'Member_4': {'name': 'Rebecca Batoh', 'slack_username': 'Becca', 'email': 'rebeccabatoh17@gmail.com', 'hobby': ['music', 'movies', 'reading'], 'country': 'Ghana', 'discipline': 'Biomedical Engineering', 'prefered_programming_language': 'Python'}, 'Member_5': {'name': 'Emmanuel Oluwarotimi Igiehon', 'slack_username': 'Emma', 'email': 'emmanueligiehen80@gmail.com', 'hobby': ['music', 'learning', 'gaming'], 'country': 'Nigeria', 'discipline': 'Plant Biology and biotechnology', 'prefered_programming_language': 'python'}, 'Member_6': {'name': 'Osasenaga Oluwatosin Igiehon', 'slack_username': 'Osas', 'email': 'osasenagaigiehon7@gmail.com', 'hobby': ['music', 'watching football', 'movies'], 'country': 'Nigeria', 'discipline': 'Animal Science', 'prefered_programming_language': 'python'}}\n"
     ]
    }
   ],
   "source": [
    "Team_tryosine = {\n",
    "    \n",
    "    # Details for member 1\n",
    "    \"Member_1\": {\n",
    "        'name': 'Laura Mazzucchi',\n",
    "        'slack_username': 'lauramazzu',\n",
    "        'email': 'lauramazzu.lm@gmail.com',\n",
    "        'hobby': ['music', 'travelling', 'learning', 'swimming', 'running', 'dancing', 'history countries'],\n",
    "        'country': 'Italian living in UK',\n",
    "        'discipline': 'microalgae biotechnology and ecology',\n",
    "        'prefered_programming_language': 'python',\n",
    "    },\n",
    "    \n",
    "    # Details for member 2\n",
    "    \"Member_2\": {\n",
    "        'name': 'Ajayi Grace',\n",
    "        'slack_username': 'Grace',\n",
    "        'email': 'oluwasolagraceajayi@gmail.com',\n",
    "        'hobby': ['reading', 'learning new things'],\n",
    "        'country': 'Nigeria',\n",
    "        'discipline': 'Biochemistry',\n",
    "        'prefered_programming_language': 'R',\n",
    "    },\n",
    "\n",
    "    # Details for member 3\n",
    "    \"Member_3\": {\n",
    "        'name': 'Olajide Temitope',\n",
    "        'slack_username': 'Temitope',\n",
    "        'email': 'te.olajide@gmail.com',\n",
    "        'hobby': 'reading',\n",
    "        'country': 'Nigeria',\n",
    "        'discipline': 'Biology',\n",
    "        'prefered_programming_language': 'Python',\n",
    "    },\n",
    "\n",
    "    # Details for member 4\n",
    "    \"Member_4\": {\n",
    "        'name': 'Rebecca Batoh',\n",
    "        'slack_username': 'Becca',\n",
    "        'email': 'rebeccabatoh17@gmail.com',\n",
    "        'hobby': ['music', 'movies', 'reading'],\n",
    "        'country': 'Ghana',\n",
    "        'discipline': 'Biomedical Engineering',\n",
    "        'prefered_programming_language': 'Python',\n",
    "    },\n",
    "\n",
    "    # Details for member 5\n",
    "    \"Member_5\": {\n",
    "        'name': 'Emmanuel Oluwarotimi Igiehon',\n",
    "        'slack_username': 'Emma',\n",
    "        'email': 'emmanueligiehen80@gmail.com',\n",
    "        'hobby': ['music', 'learning', 'gaming'],\n",
    "        'country': 'Nigeria',\n",
    "        'discipline': 'Plant Biology and biotechnology',\n",
    "        'prefered_programming_language': 'python',\n",
    "    },\n",
    "\n",
    "    # Details for member 6\n",
    "    \"Member_6\": {\n",
    "        'name': 'Osasenaga Oluwatosin Igiehon',\n",
    "        'slack_username': 'Osas',\n",
    "        'email': 'osasenagaigiehon7@gmail.com',\n",
    "        'hobby': ['music', 'watching football', 'movies'],\n",
    "        'country': 'Nigeria',\n",
    "        'discipline': 'Animal Science',\n",
    "        'prefered_programming_language': 'python',\n",
    "    }\n",
    "}\n",
    "\n",
    "print(Team_tryosine)\n"
   ]
  },
  {
   "cell_type": "code",
   "execution_count": null,
   "id": "4931854a-54c0-4c12-ba10-9bf6aef064fe",
   "metadata": {},
   "outputs": [],
   "source": []
  }
 ],
 "metadata": {
  "kernelspec": {
   "display_name": "Python 3 (ipykernel)",
   "language": "python",
   "name": "python3"
  },
  "language_info": {
   "codemirror_mode": {
    "name": "ipython",
    "version": 3
   },
   "file_extension": ".py",
   "mimetype": "text/x-python",
   "name": "python",
   "nbconvert_exporter": "python",
   "pygments_lexer": "ipython3",
   "version": "3.12.4"
  },
  "toc": {
   "base_numbering": 0
  }
 },
 "nbformat": 4,
 "nbformat_minor": 5
}
